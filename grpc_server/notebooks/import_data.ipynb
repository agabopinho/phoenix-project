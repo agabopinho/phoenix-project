{
 "cells": [
  {
   "cell_type": "code",
   "execution_count": 1,
   "id": "0f1698de-bdc6-4435-9f11-9a9ad3b194a1",
   "metadata": {},
   "outputs": [],
   "source": [
    "import sys\n",
    "\n",
    "sys.path.append(\"../\")\n",
    "\n",
    "import MetaTrader5 as mt5\n",
    "import pytz\n",
    "import numpy as np\n",
    "\n",
    "from datetime import datetime, timedelta\n",
    "from terminal.Extensions.MT5Ext import MT5Ext\n",
    "\n",
    "MT5Ext.initialize()"
   ]
  },
  {
   "cell_type": "code",
   "execution_count": 2,
   "id": "20e7509e",
   "metadata": {},
   "outputs": [],
   "source": [
    "month = 6\n",
    "\n",
    "from_date = datetime(2024, month, 1, hour=6, tzinfo=pytz.utc)\n",
    "to_date = datetime(2024, month + 1, 1, tzinfo=pytz.utc)\n",
    "\n",
    "trades_list = None\n",
    "\n",
    "while from_date < to_date:\n",
    "    trades = mt5.copy_ticks_range(\n",
    "        \"WIN$N\", from_date, from_date.replace(hour=23), mt5.COPY_TICKS_TRADE\n",
    "    )\n",
    "    if mt5.last_error()[0] == mt5.RES_S_OK and len(trades.shape) == 1:\n",
    "        if trades_list is None:\n",
    "            trades_list = trades\n",
    "        else:\n",
    "            trades_list = np.append(trades_list, trades)\n",
    "    from_date += timedelta(days=1)\n",
    "    del trades"
   ]
  },
  {
   "cell_type": "code",
   "execution_count": 3,
   "id": "679dfd86",
   "metadata": {},
   "outputs": [],
   "source": [
    "df = MT5Ext.create_ticks_dataframe(trades_list)"
   ]
  },
  {
   "cell_type": "code",
   "execution_count": 4,
   "id": "a87e9f26",
   "metadata": {},
   "outputs": [],
   "source": [
    "df.to_pickle(f\"ticks_2024_{month}.pkl\")"
   ]
  }
 ],
 "metadata": {
  "kernelspec": {
   "display_name": "Python 3 (ipykernel)",
   "language": "python",
   "name": "python3"
  },
  "language_info": {
   "codemirror_mode": {
    "name": "ipython",
    "version": 3
   },
   "file_extension": ".py",
   "mimetype": "text/x-python",
   "name": "python",
   "nbconvert_exporter": "python",
   "pygments_lexer": "ipython3",
   "version": "3.8.19"
  }
 },
 "nbformat": 4,
 "nbformat_minor": 5
}
