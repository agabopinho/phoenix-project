{
 "cells": [
  {
   "cell_type": "code",
   "execution_count": 12,
   "id": "0f1698de-bdc6-4435-9f11-9a9ad3b194a1",
   "metadata": {},
   "outputs": [],
   "source": [
    "import sys\n",
    "\n",
    "sys.path.append(\"../\")\n",
    "\n",
    "import MetaTrader5 as mt5\n",
    "import pytz\n",
    "import numpy as np\n",
    "\n",
    "from datetime import datetime, timedelta\n",
    "from terminal.Extensions.MT5Ext import MT5Ext\n",
    "\n",
    "MT5Ext.initialize()"
   ]
  },
  {
   "cell_type": "code",
   "execution_count": 13,
   "id": "20e7509e",
   "metadata": {},
   "outputs": [],
   "source": [
    "from_date = datetime(2023, 1, 1, hour=6, tzinfo=pytz.utc)\n",
    "to_date = datetime(2024, 1, 1, tzinfo=pytz.utc)\n",
    "date = None\n",
    "data_end = None\n",
    "\n",
    "trades_list = None\n",
    "symbol = \"WIN$N\"\n",
    "\n",
    "while from_date < to_date:\n",
    "    date = from_date\n",
    "    date_end = from_date.replace(hour=23)\n",
    "    trades = mt5.copy_ticks_range(\n",
    "        symbol, date, date_end, mt5.COPY_TICKS_TRADE\n",
    "    )\n",
    "    if mt5.last_error()[0] == mt5.RES_S_OK and len(trades.shape) == 1:\n",
    "        if trades_list is None:\n",
    "            trades_list = trades\n",
    "        else:\n",
    "            trades_list = np.append(trades_list, trades)\n",
    "    from_date += timedelta(days=1)\n",
    "    del trades\n",
    "\n",
    "    if date.month != from_date.month:\n",
    "        np.savez_compressed(\n",
    "            f\"ticks_{symbol}_{date.year}_{date.month}.npz\", ticks=trades_list\n",
    "        )\n",
    "        trades_list = None\n",
    "\n",
    "if trades_list is not None:\n",
    "    np.savez_compressed(\n",
    "        f\"ticks_{symbol}_{date.year}_{date.month}.npz\", ticks=trades_list\n",
    "    )\n",
    "    del trades_list"
   ]
  }
 ],
 "metadata": {
  "kernelspec": {
   "display_name": "Python 3 (ipykernel)",
   "language": "python",
   "name": "python3"
  },
  "language_info": {
   "codemirror_mode": {
    "name": "ipython",
    "version": 3
   },
   "file_extension": ".py",
   "mimetype": "text/x-python",
   "name": "python",
   "nbconvert_exporter": "python",
   "pygments_lexer": "ipython3",
   "version": "3.8.19"
  }
 },
 "nbformat": 4,
 "nbformat_minor": 5
}
