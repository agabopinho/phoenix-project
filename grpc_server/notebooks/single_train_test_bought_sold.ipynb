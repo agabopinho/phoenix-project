{
 "cells": [
  {
   "cell_type": "code",
   "execution_count": 1,
   "id": "0f1698de-bdc6-4435-9f11-9a9ad3b194a1",
   "metadata": {},
   "outputs": [],
   "source": [
    "import sys\n",
    "\n",
    "sys.path.append(\"../\")\n",
    "\n",
    "import numpy as np\n",
    "import joblib \n",
    "import os\n",
    "\n",
    "from terminal.Extensions.MT5Ext import MT5Ext\n",
    "\n",
    "from sklearn.model_selection import train_test_split\n",
    "from sklearn.ensemble import RandomForestClassifier\n",
    "from sklearn.metrics import accuracy_score"
   ]
  },
  {
   "cell_type": "code",
   "execution_count": 2,
   "id": "20e7509e",
   "metadata": {},
   "outputs": [],
   "source": [
    "ticks = np.load(\"./data/ticks_WIN$N_2024_6.npz\", allow_pickle=True)[\"ticks\"]"
   ]
  },
  {
   "cell_type": "code",
   "execution_count": 3,
   "id": "679dfd86",
   "metadata": {},
   "outputs": [],
   "source": [
    "data = MT5Ext.create_ohlc_from_ticks(ticks, '2s')"
   ]
  },
  {
   "cell_type": "code",
   "execution_count": 4,
   "id": "7a1cb052",
   "metadata": {},
   "outputs": [],
   "source": [
    "# Pré-processamento de dados\n",
    "data[\"CURRENT_CHANGE\"] = data[\"close\"].pct_change()\n",
    "data[\"FORECAST_CHANGE\"] = data[\"CURRENT_CHANGE\"].shift(-1)\n",
    "data[\"TARGET\"] = np.where(\n",
    "    (data[\"CURRENT_CHANGE\"] > 0) & (data[\"FORECAST_CHANGE\"] > 0)\n",
    "    | (data[\"CURRENT_CHANGE\"] < 0) & (data[\"FORECAST_CHANGE\"] < 0),\n",
    "    1,\n",
    "    0,\n",
    ")\n",
    "\n",
    "data.dropna(inplace=True)"
   ]
  },
  {
   "cell_type": "code",
   "execution_count": 5,
   "id": "8c7217f5",
   "metadata": {},
   "outputs": [],
   "source": [
    "# Criar características e rótulos\n",
    "feature_columns = [\"CURRENT_CHANGE\"]\n",
    "\n",
    "bought_data = data[data[\"close\"] > data[\"open\"]]\n",
    "sold_data = data[data[\"close\"] < data[\"open\"]]\n",
    "\n",
    "bought_features = bought_data[feature_columns]\n",
    "bought_target = bought_data[\"TARGET\"]\n",
    "\n",
    "sold_features = sold_data[feature_columns]\n",
    "sold_target = sold_data[\"TARGET\"]"
   ]
  },
  {
   "cell_type": "code",
   "execution_count": 6,
   "id": "53df15b4",
   "metadata": {},
   "outputs": [
    {
     "name": "stdout",
     "output_type": "stream",
     "text": [
      "bought accuracy: 0.76\n"
     ]
    },
    {
     "data": {
      "text/plain": [
       "['../models/bought.joblib']"
      ]
     },
     "execution_count": 6,
     "metadata": {},
     "output_type": "execute_result"
    }
   ],
   "source": [
    "# Dividir em conjuntos de treinamento e teste\n",
    "X_train, X_test, y_train, y_test = train_test_split(bought_features, bought_target, test_size=0.2, random_state=42)\n",
    "\n",
    "# Treinar o modelo\n",
    "if os.path.exists(\"../models/bought.joblib\"): \n",
    "    model = joblib.load(\"../models/bought.joblib\")\n",
    "else:\n",
    "    model = RandomForestClassifier(n_estimators=100, random_state=42)\n",
    "    \n",
    "model.fit(X_train, y_train)\n",
    "\n",
    "# Avaliar o modelo\n",
    "y_pred = model.predict(X_test)\n",
    "accuracy = accuracy_score(y_test, y_pred)\n",
    "print(f'bought accuracy: {accuracy:.2f}')\n",
    "\n",
    "# save\n",
    "joblib.dump(model, \"../models/bought.joblib\")"
   ]
  },
  {
   "cell_type": "code",
   "execution_count": 7,
   "id": "a75034eb",
   "metadata": {},
   "outputs": [
    {
     "name": "stdout",
     "output_type": "stream",
     "text": [
      "sold accuracy: 0.77\n"
     ]
    },
    {
     "data": {
      "text/plain": [
       "['../models/sold.joblib']"
      ]
     },
     "execution_count": 7,
     "metadata": {},
     "output_type": "execute_result"
    }
   ],
   "source": [
    "# Dividir em conjuntos de treinamento e teste\n",
    "X_train, X_test, y_train, y_test = train_test_split(sold_features, sold_target, test_size=0.2, random_state=42)\n",
    "\n",
    "# Treinar o modelo\n",
    "if os.path.exists(\"../models/sold.joblib\"): \n",
    "    model = joblib.load(\"../models/sold.joblib\")\n",
    "else:\n",
    "    model = RandomForestClassifier(n_estimators=100, random_state=42)\n",
    "    \n",
    "model.fit(X_train, y_train)\n",
    "\n",
    "# Avaliar o modelo\n",
    "y_pred = model.predict(X_test)\n",
    "accuracy = accuracy_score(y_test, y_pred)\n",
    "print(f'sold accuracy: {accuracy:.2f}')\n",
    "\n",
    "# save\n",
    "joblib.dump(model, \"../models/sold.joblib\")"
   ]
  }
 ],
 "metadata": {
  "kernelspec": {
   "display_name": "Python 3 (ipykernel)",
   "language": "python",
   "name": "python3"
  },
  "language_info": {
   "codemirror_mode": {
    "name": "ipython",
    "version": 3
   },
   "file_extension": ".py",
   "mimetype": "text/x-python",
   "name": "python",
   "nbconvert_exporter": "python",
   "pygments_lexer": "ipython3",
   "version": "3.8.19"
  }
 },
 "nbformat": 4,
 "nbformat_minor": 5
}
