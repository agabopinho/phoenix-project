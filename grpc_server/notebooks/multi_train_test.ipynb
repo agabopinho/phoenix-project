{
 "cells": [
  {
   "cell_type": "code",
   "execution_count": 5,
   "id": "0f1698de-bdc6-4435-9f11-9a9ad3b194a1",
   "metadata": {},
   "outputs": [],
   "source": [
    "import sys\n",
    "\n",
    "sys.path.append(\"../\")\n",
    "\n",
    "import numpy as np\n",
    "import pandas_ta as ta\n",
    "import joblib\n",
    "\n",
    "from terminal.Extensions.MT5Ext import MT5Ext\n",
    "from datetime import datetime\n",
    "\n",
    "from sklearn.ensemble import RandomForestClassifier\n",
    "from sklearn.metrics import accuracy_score"
   ]
  },
  {
   "cell_type": "code",
   "execution_count": 6,
   "id": "aafe9eeb",
   "metadata": {},
   "outputs": [],
   "source": [
    "# Modelo\n",
    "model = RandomForestClassifier(n_estimators=100, random_state=42)"
   ]
  },
  {
   "cell_type": "code",
   "execution_count": 7,
   "id": "a6e2297f",
   "metadata": {},
   "outputs": [],
   "source": [
    "def feature_target(file):\n",
    "    # Carregar os dados\n",
    "    ticks = np.load(file, allow_pickle=True)[\"ticks\"]\n",
    "    data = MT5Ext.create_ohlc_from_ticks(ticks, \"5s\")\n",
    "\n",
    "    del ticks\n",
    "\n",
    "    # Cálculo de indicadores\n",
    "    data.ta.macd(append=True)\n",
    "    data.dropna(inplace=True)\n",
    "\n",
    "    # Pré-processamento de dados\n",
    "    data[\"change\"] = data[\"close\"].pct_change()\n",
    "    data[\"target\"] = np.where(data[\"change\"] > 0, 1, 0)\n",
    "    data[\"target\"] = data[\"target\"].shift(-1)\n",
    "    data.dropna(inplace=True)\n",
    "\n",
    "    # Criar características e rótulos\n",
    "    feature_columns = [\n",
    "        \"open\",\n",
    "        \"close\",\n",
    "        \"MACD_12_26_9\",\n",
    "        \"MACDh_12_26_9\",\n",
    "        \"MACDs_12_26_9\",\n",
    "    ]\n",
    "    features = data[feature_columns]\n",
    "    target = data[\"target\"]\n",
    "\n",
    "    del data\n",
    "\n",
    "    return features, target\n",
    "\n",
    "\n",
    "def test(file):\n",
    "    features, target = feature_target(file)\n",
    "\n",
    "    # Avaliar o modelo\n",
    "    y_pred = model.predict(features)\n",
    "    accuracy = accuracy_score(target, y_pred)\n",
    "    print(f\"accuracy: {accuracy:.2f}\")\n",
    "\n",
    "\n",
    "def train(file):\n",
    "    features, target = feature_target(file)\n",
    "\n",
    "    model.fit(features, target)"
   ]
  },
  {
   "cell_type": "code",
   "execution_count": 8,
   "id": "1029fee5",
   "metadata": {},
   "outputs": [
    {
     "name": "stdout",
     "output_type": "stream",
     "text": [
      "2024-07-14 14:48:57.459576 - train './data/ticks_WIN$N_2024_1.npz'\n",
      "2024-07-14 14:51:18.470013 - train './data/ticks_WIN$N_2024_2.npz'\n",
      "2024-07-14 14:52:55.162443 - train './data/ticks_WIN$N_2024_3.npz'\n",
      "2024-07-14 14:54:32.275973 - train './data/ticks_WIN$N_2024_4.npz'\n",
      "2024-07-14 14:56:26.149626 - train './data/ticks_WIN$N_2024_5.npz'\n",
      "2024-07-14 14:58:10.172024 - train './data/ticks_WIN$N_2024_6.npz'\n"
     ]
    }
   ],
   "source": [
    "for file in [\n",
    "    \"./data/ticks_WIN$N_2024_1.npz\",\n",
    "    \"./data/ticks_WIN$N_2024_2.npz\",\n",
    "    \"./data/ticks_WIN$N_2024_3.npz\",\n",
    "    \"./data/ticks_WIN$N_2024_4.npz\",\n",
    "    \"./data/ticks_WIN$N_2024_5.npz\",\n",
    "    \"./data/ticks_WIN$N_2024_6.npz\",\n",
    "]:\n",
    "    print(f\"{datetime.now()} - train '{file}'\")\n",
    "    train(file)"
   ]
  },
  {
   "cell_type": "code",
   "execution_count": 9,
   "id": "6b00765d",
   "metadata": {},
   "outputs": [
    {
     "name": "stdout",
     "output_type": "stream",
     "text": [
      "accuracy: 0.57\n"
     ]
    }
   ],
   "source": [
    "test(\"./data/ticks_WIN$N_2024_7.npz\")"
   ]
  },
  {
   "cell_type": "code",
   "execution_count": 10,
   "id": "ca4d6808",
   "metadata": {},
   "outputs": [
    {
     "data": {
      "text/plain": [
       "['../models/WIN$N-2024_from_01_to_06-RandomForestClassifier-02.joblib']"
      ]
     },
     "execution_count": 10,
     "metadata": {},
     "output_type": "execute_result"
    }
   ],
   "source": [
    "# save\n",
    "joblib.dump(model, \"../models/WIN$N-2024_from_01_to_06-RandomForestClassifier-02.joblib\")"
   ]
  }
 ],
 "metadata": {
  "kernelspec": {
   "display_name": "Python 3 (ipykernel)",
   "language": "python",
   "name": "python3"
  },
  "language_info": {
   "codemirror_mode": {
    "name": "ipython",
    "version": 3
   },
   "file_extension": ".py",
   "mimetype": "text/x-python",
   "name": "python",
   "nbconvert_exporter": "python",
   "pygments_lexer": "ipython3",
   "version": "3.8.19"
  }
 },
 "nbformat": 4,
 "nbformat_minor": 5
}
