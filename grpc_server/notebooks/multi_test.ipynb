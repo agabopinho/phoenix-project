{
 "cells": [
  {
   "cell_type": "code",
   "execution_count": 29,
   "id": "0f1698de-bdc6-4435-9f11-9a9ad3b194a1",
   "metadata": {},
   "outputs": [],
   "source": [
    "import sys\n",
    "\n",
    "sys.path.append(\"../\")\n",
    "\n",
    "import numpy as np\n",
    "import pandas_ta as ta\n",
    "import joblib\n",
    "\n",
    "from terminal.Extensions.MT5Ext import MT5Ext\n",
    "\n",
    "from sklearn.metrics import accuracy_score"
   ]
  },
  {
   "cell_type": "code",
   "execution_count": 30,
   "id": "aafe9eeb",
   "metadata": {},
   "outputs": [],
   "source": [
    "# load, no need to initialize the loaded_rf\n",
    "model = joblib.load(\"../models/WIN$N-2024_06-RandomForestClassifier.joblib\")"
   ]
  },
  {
   "cell_type": "code",
   "execution_count": 31,
   "id": "a6e2297f",
   "metadata": {},
   "outputs": [],
   "source": [
    "def feature_target(file):\n",
    "    # Carregar os dados\n",
    "    ticks = np.load(file, allow_pickle=True)[\"ticks\"]\n",
    "    data = MT5Ext.create_ohlc_from_ticks(ticks, \"5s\")\n",
    "\n",
    "    del ticks\n",
    "\n",
    "    # Cálculo de indicadores\n",
    "    data.ta.macd(append=True)\n",
    "    data.dropna(inplace=True)\n",
    "\n",
    "    # Pré-processamento de dados\n",
    "    data[\"change\"] = data[\"close\"].pct_change()\n",
    "    data[\"target\"] = np.where(data[\"change\"] > 0, 1, 0)\n",
    "    data[\"target\"] = data[\"target\"].shift(-1)\n",
    "    data.dropna(inplace=True)\n",
    "\n",
    "    bought_data = data[data[\"close\"] > data[\"open\"]]\n",
    "    sold_data = data[data[\"close\"] < data[\"open\"]]\n",
    "\n",
    "    # Criar características e rótulos\n",
    "    feature_columns = [\n",
    "        \"open\",\n",
    "        \"close\",\n",
    "        \"MACD_12_26_9\",\n",
    "        \"MACDh_12_26_9\",\n",
    "        \"MACDs_12_26_9\",\n",
    "    ]\n",
    "\n",
    "    bought_features = bought_data[feature_columns]\n",
    "    bought_target = bought_data[\"target\"]\n",
    "\n",
    "    sold_features = sold_data[feature_columns]\n",
    "    sold_target = sold_data[\"target\"]\n",
    "\n",
    "    del data\n",
    "    del bought_data\n",
    "    del sold_data\n",
    "\n",
    "    return bought_features, bought_target, sold_features, sold_target\n",
    "\n",
    "\n",
    "def test(file):\n",
    "    bought_features, bought_target, sold_features, sold_target = feature_target(file)\n",
    "\n",
    "    # Avaliar o modelo\n",
    "    y_pred = model.predict(bought_features)\n",
    "    accuracy = accuracy_score(bought_target, y_pred)\n",
    "    print(f\"bought accuracy: {accuracy:.2f}\")\n",
    "    \n",
    "    # Avaliar o modelo\n",
    "    y_pred = model.predict(sold_features)\n",
    "    accuracy = accuracy_score(sold_target, y_pred)\n",
    "    print(f\"sold accuracy: {accuracy:.2f}\")"
   ]
  },
  {
   "cell_type": "code",
   "execution_count": 32,
   "id": "6b00765d",
   "metadata": {},
   "outputs": [
    {
     "name": "stdout",
     "output_type": "stream",
     "text": [
      "bought accuracy: 0.60\n",
      "sold accuracy: 0.54\n"
     ]
    }
   ],
   "source": [
    "test(\"./data/ticks_WIN$N_2024_7.npz\")"
   ]
  }
 ],
 "metadata": {
  "kernelspec": {
   "display_name": "Python 3 (ipykernel)",
   "language": "python",
   "name": "python3"
  },
  "language_info": {
   "codemirror_mode": {
    "name": "ipython",
    "version": 3
   },
   "file_extension": ".py",
   "mimetype": "text/x-python",
   "name": "python",
   "nbconvert_exporter": "python",
   "pygments_lexer": "ipython3",
   "version": "3.8.19"
  }
 },
 "nbformat": 4,
 "nbformat_minor": 5
}
