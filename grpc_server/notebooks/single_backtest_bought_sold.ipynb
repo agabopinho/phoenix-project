{
 "cells": [
  {
   "cell_type": "code",
   "execution_count": 28,
   "id": "0f1698de-bdc6-4435-9f11-9a9ad3b194a1",
   "metadata": {},
   "outputs": [],
   "source": [
    "import sys\n",
    "\n",
    "sys.path.append(\"../\")\n",
    "\n",
    "import numpy as np\n",
    "import pandas_ta as ta\n",
    "import joblib\n",
    "import pandas as pd\n",
    "\n",
    "from terminal.Extensions.MT5Ext import MT5Ext\n",
    "from terminal.Extensions.Backtest import Backtest, SideType, Brick"
   ]
  },
  {
   "cell_type": "code",
   "execution_count": 29,
   "id": "aafe9eeb",
   "metadata": {},
   "outputs": [],
   "source": [
    "# Carregar modelos\n",
    "bought_model = joblib.load(\"../models/bought.joblib\")\n",
    "sold_model = joblib.load(\"../models/sold.joblib\")"
   ]
  },
  {
   "cell_type": "code",
   "execution_count": 30,
   "id": "a6e2297f",
   "metadata": {},
   "outputs": [],
   "source": [
    "# Carregar os dados\n",
    "ticks = np.load(\"./data/ticks_WIN$N_2024_7.npz\", allow_pickle=True)[\"ticks\"]\n",
    "data = MT5Ext.create_ohlc_from_ticks(ticks, \"20s\")\n",
    "\n",
    "del ticks\n",
    "\n",
    "# Cálculo de indicadores\n",
    "data[\"EMA_1\"] = data.ta.ema(3)\n",
    "data[\"EMA_2\"] = data.ta.ema(8)\n",
    "data[\"EMA_3\"] = data.ta.ema(16)\n",
    "\n",
    "data[\"EMA_1_CHANGE\"] = data[\"EMA_1\"].pct_change()\n",
    "data[\"EMA_2_CHANGE\"] = data[\"EMA_2\"].pct_change()\n",
    "data[\"EMA_3_CHANGE\"] = data[\"EMA_3\"].pct_change()\n",
    "\n",
    "data.dropna(inplace=True)\n",
    "\n",
    "# Pré-processamento de dados\n",
    "data[\"CURRENT_CHANGE\"] = data[\"close\"].pct_change()\n",
    "data[\"FORECAST_CHANGE\"] = data[\"CURRENT_CHANGE\"].shift(-1)\n",
    "\n",
    "data.dropna(inplace=True)\n",
    "\n",
    "# Criar características e rótulos\n",
    "feature_columns = [\n",
    "    \"CURRENT_CHANGE\"\n",
    "]"
   ]
  },
  {
   "cell_type": "code",
   "execution_count": null,
   "id": "94901ffe",
   "metadata": {},
   "outputs": [],
   "source": [
    "bought = data[data[\"close\"] > data[\"open\"]]\n",
    "sold = data[data[\"close\"] < data[\"open\"]]\n",
    "\n",
    "data[\"PRED\"] = 0\n",
    "\n",
    "data.loc[data[\"close\"] > data[\"open\"], \"PRED\"] = bought_model.predict(bought[feature_columns])\n",
    "data.loc[data[\"close\"] < data[\"open\"], \"PRED\"] = sold_model.predict(sold[feature_columns])"
   ]
  },
  {
   "cell_type": "code",
   "execution_count": null,
   "id": "aa2bbfe6",
   "metadata": {},
   "outputs": [],
   "source": [
    "backtest = Backtest(slippage=0)\n",
    "\n",
    "for i, d in data.iterrows():\n",
    "    backtest.add_brick(Brick(date=i, close=d.close))\n",
    "\n",
    "    signal = None\n",
    "    \n",
    "    if d.close > d.open: \n",
    "        signal = SideType.SELL if d.PRED == 0 else None\n",
    "    elif d.close < d.open:\n",
    "        signal = SideType.BUY if d.PRED == 0 else None\n",
    "\n",
    "    if signal == SideType.BUY and (\n",
    "        backtest.current_position is None\n",
    "        or backtest.current_position.type == SideType.SELL\n",
    "    ):\n",
    "        if backtest.current_position is not None:\n",
    "            backtest.close_position()\n",
    "        backtest.add_position(SideType.BUY)\n",
    "    elif signal == SideType.SELL and (\n",
    "        backtest.current_position is None\n",
    "        or backtest.current_position.type == SideType.BUY\n",
    "    ):\n",
    "        if backtest.current_position is not None:\n",
    "            backtest.close_position()\n",
    "        backtest.add_position(SideType.SELL)"
   ]
  },
  {
   "cell_type": "code",
   "execution_count": null,
   "id": "ce86c5e3",
   "metadata": {},
   "outputs": [],
   "source": [
    "positions = pd.DataFrame(backtest.positions)\n",
    "positions.to_excel(\"positions.xlsx\")"
   ]
  }
 ],
 "metadata": {
  "kernelspec": {
   "display_name": "Python 3 (ipykernel)",
   "language": "python",
   "name": "python3"
  },
  "language_info": {
   "codemirror_mode": {
    "name": "ipython",
    "version": 3
   },
   "file_extension": ".py",
   "mimetype": "text/x-python",
   "name": "python",
   "nbconvert_exporter": "python",
   "pygments_lexer": "ipython3",
   "version": "3.8.19"
  }
 },
 "nbformat": 4,
 "nbformat_minor": 5
}
